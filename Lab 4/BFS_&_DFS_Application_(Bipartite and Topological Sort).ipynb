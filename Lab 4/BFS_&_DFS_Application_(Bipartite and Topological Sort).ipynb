{
 "cells": [
  {
   "cell_type": "code",
   "execution_count": 3,
   "metadata": {},
   "outputs": [
    {
     "name": "stdout",
     "output_type": "stream",
     "text": [
      "Graph is Bipartite\n"
     ]
    }
   ],
   "source": [
    "#To check if the graph is Bipartite using DFS\n",
    "def addEdge(adj, u, v):\n",
    " adj[u].append(v)\n",
    " adj[v].append(u)\n",
    "def isBipartite(adj, v, visited, color):\n",
    "    for u in adj[v]:\n",
    " \n",
    "        if (visited[u] == False):\n",
    "            visited[u] = True\n",
    "            color[u] = not color[v]\n",
    "            if (not isBipartite(adj, u, visited, color)):\n",
    "                return false\n",
    "        elif (color[u] == color[v]):\n",
    "            return False\n",
    "    return True\n",
    "if __name__=='__main__':\n",
    "    N = 6\n",
    "    adj = [[] for i in range(N + 1)]\n",
    "    visited = [0 for i in range(N + 1)]\n",
    "    color = [0 for i in range(N + 1)]\n",
    "    addEdge(adj, 1, 2)\n",
    "    addEdge(adj, 2, 3)\n",
    "    addEdge(adj, 3, 4)\n",
    "    addEdge(adj, 4, 5)\n",
    "    addEdge(adj, 5, 6)\n",
    "    addEdge(adj, 6, 1)\n",
    "    \n",
    "    visited[1] = True\n",
    "    \n",
    "    color[1] = 0\n",
    "    \n",
    "    if (isBipartite(adj, 1, visited, color)):\n",
    "        print(\"Graph is Bipartite\")\n",
    "    else:\n",
    "        print(\"Graph is not Bipartite\")"
   ]
  },
  {
   "cell_type": "code",
   "execution_count": 11,
   "metadata": {},
   "outputs": [
    {
     "name": "stdout",
     "output_type": "stream",
     "text": [
      "Here we are printing topological sort: \n",
      "[4, 5, 2, 0, 3, 1]\n"
     ]
    }
   ],
   "source": [
    "#Topological sort using BFS\n",
    "from collections import defaultdict\n",
    "\n",
    "class Graph:\n",
    "\tdef __init__(self, vertices):\n",
    "\t\tself.graph = defaultdict(list) \n",
    "\t\tself.V = vertices \n",
    "\n",
    "\tdef addEdge(self, u, v):\n",
    "\t\tself.graph[u].append(v)\n",
    "\n",
    "\tdef topologicalSort(self):\n",
    "\t\t\n",
    "\t\tin_degree = [0]*(self.V)\n",
    "\t\t\n",
    "\t\tfor i in self.graph:\n",
    "\t\t\tfor j in self.graph[i]:\n",
    "\t\t\t\tin_degree[j] += 1\n",
    "\n",
    "\t\tqueue = []\n",
    "\t\tfor i in range(self.V):\n",
    "\t\t\tif in_degree[i] == 0:\n",
    "\t\t\t\tqueue.append(i)\n",
    "\t\tcnt = 0\n",
    "\t\ttop_order = []\n",
    "\t\t\n",
    "\t\twhile queue:\n",
    "\t\t\tu = queue.pop(0)\n",
    "\t\t\ttop_order.append(u)\n",
    "\n",
    "\t\t\tfor i in self.graph[u]:\n",
    "\t\t\t\tin_degree[i] -= 1\n",
    "\t\t\t\tif in_degree[i] == 0:\n",
    "\t\t\t\t\tqueue.append(i)\n",
    "\n",
    "\t\t\tcnt += 1\n",
    "\n",
    "\t\tif cnt != self.V:\n",
    "\t\t\tprint (\"There exists a cycle in the graph\")\n",
    "\t\telse :\n",
    "\t\t\tprint (top_order)\n",
    "\n",
    "\n",
    "g = Graph(6)\n",
    "g.addEdge(5, 2);\n",
    "g.addEdge(5, 0);\n",
    "g.addEdge(4, 0);\n",
    "g.addEdge(4, 1);\n",
    "g.addEdge(2, 3);\n",
    "g.addEdge(3, 1);\n",
    "\n",
    "print (\"Here we are printing topological sort: \")\n",
    "g.topologicalSort()"
   ]
  },
  {
   "cell_type": "code",
   "execution_count": null,
   "metadata": {},
   "outputs": [],
   "source": []
  }
 ],
 "metadata": {
  "kernelspec": {
   "display_name": "Python 3",
   "language": "python",
   "name": "python3"
  },
  "language_info": {
   "codemirror_mode": {
    "name": "ipython",
    "version": 3
   },
   "file_extension": ".py",
   "mimetype": "text/x-python",
   "name": "python",
   "nbconvert_exporter": "python",
   "pygments_lexer": "ipython3",
   "version": "3.8.5"
  }
 },
 "nbformat": 4,
 "nbformat_minor": 4
}
