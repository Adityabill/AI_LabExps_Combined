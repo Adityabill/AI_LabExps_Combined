{
 "cells": [
  {
   "cell_type": "code",
   "execution_count": 3,
   "metadata": {},
   "outputs": [
    {
     "name": "stdout",
     "output_type": "stream",
     "text": [
      "Enter no. of bananas at starting point:3000\n",
      "Enter distance you to be covered:1000\n",
      "Max. Capacity of camel:1000\n",
      "533\n"
     ]
    }
   ],
   "source": [
    "#Camel Banana Problem\n",
    "total=int(input('Enter no. of bananas at starting point:'))\n",
    "distance=int(input('Enter distance you to be covered:'))\n",
    "max_capacity=int(input('Max. Capacity of camel:'))\n",
    "lose=0\n",
    "start_point=total\n",
    "for i in range(distance):\n",
    "    while start_point>0:\n",
    "        start_point=start_point-max_capacity\n",
    "\n",
    "        if start_point==1:\n",
    "            lose=lose-1\n",
    "        lose=lose+2\n",
    "\n",
    "    lose=lose-1\n",
    "    start_point=total-lose\n",
    "    if start_point==0:\n",
    "        break\n",
    "print(start_point)"
   ]
  },
  {
   "cell_type": "code",
   "execution_count": null,
   "metadata": {},
   "outputs": [],
   "source": []
  }
 ],
 "metadata": {
  "kernelspec": {
   "display_name": "Python 3",
   "language": "python",
   "name": "python3"
  },
  "language_info": {
   "codemirror_mode": {
    "name": "ipython",
    "version": 3
   },
   "file_extension": ".py",
   "mimetype": "text/x-python",
   "name": "python",
   "nbconvert_exporter": "python",
   "pygments_lexer": "ipython3",
   "version": "3.8.5"
  }
 },
 "nbformat": 4,
 "nbformat_minor": 4
}
