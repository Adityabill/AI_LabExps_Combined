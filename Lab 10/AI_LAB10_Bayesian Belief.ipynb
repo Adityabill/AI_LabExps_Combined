{
 "cells": [
  {
   "cell_type": "code",
   "execution_count": 5,
   "metadata": {},
   "outputs": [
    {
     "ename": "ModuleNotFoundError",
     "evalue": "No module named 'pomegranate'",
     "output_type": "error",
     "traceback": [
      "\u001b[1;31m---------------------------------------------------------------------------\u001b[0m",
      "\u001b[1;31mModuleNotFoundError\u001b[0m                       Traceback (most recent call last)",
      "\u001b[1;32m<ipython-input-5-fec72c77aea9>\u001b[0m in \u001b[0;36m<module>\u001b[1;34m\u001b[0m\n\u001b[0;32m      1\u001b[0m \u001b[1;31m#Import requiredpackages\u001b[0m\u001b[1;33m\u001b[0m\u001b[1;33m\u001b[0m\u001b[1;33m\u001b[0m\u001b[0m\n\u001b[0;32m      2\u001b[0m \u001b[1;32mimport\u001b[0m \u001b[0mmath\u001b[0m\u001b[1;33m\u001b[0m\u001b[1;33m\u001b[0m\u001b[0m\n\u001b[1;32m----> 3\u001b[1;33m \u001b[1;32mfrom\u001b[0m \u001b[0mpomegranate\u001b[0m \u001b[1;32mimport\u001b[0m \u001b[1;33m*\u001b[0m\u001b[1;33m\u001b[0m\u001b[1;33m\u001b[0m\u001b[0m\n\u001b[0m\u001b[0;32m      4\u001b[0m \u001b[1;31m# Initially thedoor selectedby the guest is completely random\u001b[0m\u001b[1;33m\u001b[0m\u001b[1;33m\u001b[0m\u001b[1;33m\u001b[0m\u001b[0m\n\u001b[0;32m      5\u001b[0m \u001b[0mguest\u001b[0m \u001b[1;33m=\u001b[0m\u001b[0mDiscreteDistribution\u001b[0m\u001b[1;33m(\u001b[0m \u001b[1;33m{\u001b[0m \u001b[1;34m'A'\u001b[0m\u001b[1;33m:\u001b[0m \u001b[1;36m1.\u001b[0m\u001b[1;33m/\u001b[0m\u001b[1;36m3\u001b[0m\u001b[1;33m,\u001b[0m \u001b[1;34m'B'\u001b[0m\u001b[1;33m:\u001b[0m \u001b[1;36m1.\u001b[0m\u001b[1;33m/\u001b[0m\u001b[1;36m3\u001b[0m\u001b[1;33m,\u001b[0m \u001b[1;34m'C'\u001b[0m\u001b[1;33m:\u001b[0m \u001b[1;36m1.\u001b[0m\u001b[1;33m/\u001b[0m\u001b[1;36m3\u001b[0m \u001b[1;33m}\u001b[0m \u001b[1;33m)\u001b[0m\u001b[1;33m\u001b[0m\u001b[1;33m\u001b[0m\u001b[0m\n",
      "\u001b[1;31mModuleNotFoundError\u001b[0m: No module named 'pomegranate'"
     ]
    }
   ],
   "source": [
    "#Import requiredpackages \n",
    "import math \n",
    "from pomegranate import * \n",
    "# Initially thedoor selectedby the guest is completely random \n",
    "guest =DiscreteDistribution( { 'A': 1./3, 'B': 1./3, 'C': 1./3 } ) \n",
    "# The door containing the prize is also a random process \n",
    "prize =DiscreteDistribution( { 'A': 1./3, 'B': 1./3, 'C': 1./3 } ) \n",
    "# The door Montypicks, depends on the choice of the guest and the prize door \n",
    "monty =ConditionalProbabilityTable( [[ 'A', 'A', 'A', 0.0 ], \n",
    "                                     [ 'A', 'A', 'B', 0.5 ], \n",
    "                                     [ 'A', 'A', 'C', 0.5 ], \n",
    "                                     [ 'A', 'B', 'A', 0.0 ], \n",
    "                                     [ 'A', 'B', 'B', 0.0 ], \n",
    "                                     [ 'A', 'B', 'C', 1.0 ], \n",
    "                                     [ 'A', 'C', 'A', 0.0 ], \n",
    "                                     [ 'A', 'C', 'B', 1.0 ], \n",
    "                                     [ 'A', 'C', 'C', 0.0 ], \n",
    "                                     [ 'B', 'A', 'A', 0.0 ], \n",
    "                                     [ 'B', 'A', 'B', 0.0 ], \n",
    "                                     [ 'B', 'A', 'C', 1.0 ], \n",
    "                                     [ 'B', 'B', 'A', 0.5 ], \n",
    "                                     [ 'B', 'B', 'B', 0.0 ], \n",
    "                                     [ 'B', 'B', 'C', 0.5 ], \n",
    "                                     [ 'B', 'C', 'A', 1.0 ], \n",
    "                                     [ 'B', 'C', 'B', 0.0 ],\n",
    "                                     [ 'B', 'C', 'C', 0.0 ], \n",
    "                                     [ 'C', 'A', 'A', 0.0 ], \n",
    "                                     [ 'C', 'A', 'B', 1.0 ], \n",
    "                                     [ 'C', 'A', 'C', 0.0 ], \n",
    "                                     [ 'C', 'B', 'A', 1.0 ], \n",
    "                                     [ 'C', 'B', 'B', 0.0 ], \n",
    "                                     [ 'C', 'B', 'C', 0.0 ], \n",
    "                                     [ 'C', 'C', 'A', 0.5 ], \n",
    "                                     [ 'C', 'C', 'B', 0.5 ], \n",
    "                                     [ 'C', 'C', 'C', 0.0 ]], [guest, prize] ) \n",
    "d1 = State( guest, name=\"guest\" ) \n",
    "d2 = State(prize, name=\"prize\" ) \n",
    "d3 = State( monty, name=\"monty\" ) \n",
    "#Building the Bayesian Network \n",
    "network = BayesianNetwork( \"Solving the Monty Hall Problem With Bayesian Networks\" ) \n",
    "network.add_states(d1, d2, d3) \n",
    "network.add_edge(d1,d3) \n",
    "network.add_edge(d2,d3) \n",
    "network.bake() \n",
    "beliefs = network.predict_proba({'guest' : 'A', 'monty' : 'B'})\n",
    "print(\"n\".join( \"{}t{}\".format( state.name, str(belief) ) for state, belief in zip( network.states, beliefs ))) \n",
    "beliefs = network.predict_proba({ 'guest' : 'A' }) \n",
    "beliefs = map(str, beliefs) \n",
    "print(\"n\".join( \"{}t{}\".format( state.name, belief ) for state, belief in zip( network.states, beliefs ) ))"
   ]
  },
  {
   "cell_type": "code",
   "execution_count": null,
   "metadata": {},
   "outputs": [],
   "source": []
  }
 ],
 "metadata": {
  "kernelspec": {
   "display_name": "Python 3",
   "language": "python",
   "name": "python3"
  },
  "language_info": {
   "codemirror_mode": {
    "name": "ipython",
    "version": 3
   },
   "file_extension": ".py",
   "mimetype": "text/x-python",
   "name": "python",
   "nbconvert_exporter": "python",
   "pygments_lexer": "ipython3",
   "version": "3.8.5"
  }
 },
 "nbformat": 4,
 "nbformat_minor": 4
}
