{
 "cells": [
  {
   "cell_type": "code",
   "execution_count": 3,
   "metadata": {},
   "outputs": [
    {
     "name": "stdout",
     "output_type": "stream",
     "text": [
      "The shortest path from source to destination has length 12\n"
     ]
    }
   ],
   "source": [
    "#A* Algorithm\n",
    "import sys\n",
    "\n",
    "def isSafe(mat, visited, x, y):\n",
    "     return 0 <= x < len(mat) and 0 <= y < len(mat[0]) and \\\n",
    "        not (mat[x][y] == 0 or visited[x][y])\n",
    "\n",
    "\n",
    "def findShortestPath(mat, visited, i, j, dest, min_dist=sys.maxsize, dist=0):\n",
    "\n",
    "     \n",
    "     if (i, j) == dest:\n",
    "         return min(dist, min_dist)\n",
    "    \n",
    "    \n",
    "     visited[i][j] = 1\n",
    "    \n",
    "    \n",
    "     if isSafe(mat, visited, i + 1, j):\n",
    "         min_dist = findShortestPath(mat, visited, i + 1, j, dest, min_dist, dist + 1)\n",
    "\n",
    "    \n",
    "     if isSafe(mat, visited, i, j + 1):\n",
    "         min_dist = findShortestPath(mat, visited, i, j + 1, dest, min_dist, dist + 1)\n",
    "    \n",
    "     \n",
    "     if isSafe(mat, visited, i - 1, j):\n",
    "         min_dist = findShortestPath(mat, visited, i - 1, j, dest, min_dist, dist + 1)\n",
    "\n",
    "     \n",
    "     if isSafe(mat, visited, i, j - 1):\n",
    "         min_dist = findShortestPath(mat, visited, i, j - 1, dest, min_dist, dist + 1)\n",
    "\n",
    "    \n",
    "     visited[i][j] = 0\n",
    "    \n",
    "     return min_dist\n",
    "\n",
    "def findShortestPathLength(mat, src, dest):\n",
    "\n",
    "     \n",
    "    i, j = src\n",
    "\n",
    "     \n",
    "    x, y = dest\n",
    "\n",
    "     \n",
    "    if not mat or len(mat) == 0 or mat[i][j] == 0 or mat[x][y] == 0:\n",
    "      return -1\n",
    "\n",
    "     \n",
    "    (M, N) = (len(mat), len(mat[0]))\n",
    "\n",
    "    \n",
    "    visited = [[False for _ in range(N)] for _ in range(M)]\n",
    "\n",
    "    min_dist = findShortestPath(mat, visited, i, j, dest)\n",
    "\n",
    "    if min_dist != sys.maxsize:\n",
    "        return min_dist\n",
    "    else:\n",
    "        return -1\n",
    "if __name__ == '__main__':\n",
    "\n",
    "    mat = [\n",
    "        [1, 1, 1, 1, 1, 0, 0, 1, 1, 1],\n",
    "        [0, 1, 1, 1, 1, 1, 0, 1, 0, 1],\n",
    "        [0, 0, 1, 0, 1, 1, 1, 0, 0, 1],\n",
    "        [1, 0, 1, 1, 1, 0, 1, 1, 0, 1],\n",
    "        [0, 0, 0, 1, 0, 0, 0, 1, 0, 1],\n",
    "        [1, 0, 1, 1, 1, 0, 0, 1, 1, 0],\n",
    "        [0, 0, 0, 0, 1, 0, 0, 1, 0, 1],\n",
    "        [0, 1, 1, 1, 1, 1, 1, 1, 0, 0],\n",
    "        [1, 1, 1, 1, 1, 0, 0, 1, 1, 1],\n",
    "        [0, 0, 1, 0, 0, 1, 1, 0, 0, 1]\n",
    "    ]\n",
    "    src = (0, 0)\n",
    "    dest = (7, 5)\n",
    "    min_dist = findShortestPathLength(mat, src, dest)\n",
    "    if min_dist != -1:\n",
    "         print(\"The shortest path from source to destination has length\", min_dist)\n",
    "    else:\n",
    "        print(\"Destination cannot be reached from source\")"
   ]
  },
  {
   "cell_type": "code",
   "execution_count": 4,
   "metadata": {},
   "outputs": [
    {
     "name": "stdout",
     "output_type": "stream",
     "text": [
      "0 2 3 4 \n"
     ]
    }
   ],
   "source": [
    "#Best First Search\n",
    "from queue import PriorityQueue\n",
    "v = 5\n",
    "graph = [[] for i in range(v)]\n",
    "def best_first_search(source, target, n):\n",
    "    visited = [0] * n\n",
    "    visited[0] = True\n",
    "    pq = PriorityQueue()\n",
    "    pq.put((0, source))\n",
    "    while pq.empty() == False:\n",
    "        u = pq.get()[1]\n",
    "        print(u, end=\" \")\n",
    "        if u == target:\n",
    "            break\n",
    "        for v, c in graph[u]:\n",
    "            if visited[v] == False:\n",
    "                visited[v] = True\n",
    "                pq.put((c, v))\n",
    "    print()\n",
    "def addedge(x, y, cost):\n",
    "    graph[x].append((y, cost))\n",
    "    graph[y].append((x, cost))\n",
    "addedge(0, 1, 5)\n",
    "addedge(0, 2, 1)\n",
    "addedge(2, 3, 2)\n",
    "addedge(1, 4, 1)\n",
    "addedge(3, 4, 2)\n",
    "source = 0\n",
    "target = 4\n",
    "best_first_search(source, target, v)"
   ]
  },
  {
   "cell_type": "code",
   "execution_count": null,
   "metadata": {},
   "outputs": [],
   "source": []
  }
 ],
 "metadata": {
  "kernelspec": {
   "display_name": "Python 3",
   "language": "python",
   "name": "python3"
  },
  "language_info": {
   "codemirror_mode": {
    "name": "ipython",
    "version": 3
   },
   "file_extension": ".py",
   "mimetype": "text/x-python",
   "name": "python",
   "nbconvert_exporter": "python",
   "pygments_lexer": "ipython3",
   "version": "3.8.5"
  }
 },
 "nbformat": 4,
 "nbformat_minor": 4
}
